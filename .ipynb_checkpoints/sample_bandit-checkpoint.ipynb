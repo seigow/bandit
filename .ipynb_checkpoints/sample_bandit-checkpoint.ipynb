{
 "cells": [
  {
   "cell_type": "code",
   "execution_count": 4,
   "metadata": {
    "collapsed": false
   },
   "outputs": [
    {
     "ename": "SyntaxError",
     "evalue": "invalid syntax (<ipython-input-4-139ae1191ac7>, line 2)",
     "output_type": "error",
     "traceback": [
      "\u001b[0;36m  File \u001b[0;32m\"<ipython-input-4-139ae1191ac7>\"\u001b[0;36m, line \u001b[0;32m2\u001b[0m\n\u001b[0;31m    import \"policy/egreedy\"\u001b[0m\n\u001b[0m                          ^\u001b[0m\n\u001b[0;31mSyntaxError\u001b[0m\u001b[0;31m:\u001b[0m invalid syntax\n"
     ]
    }
   ],
   "source": [
    "import numpy as np\n",
    "import \"policy/egreedy\""
   ]
  },
  {
   "cell_type": "code",
   "execution_count": null,
   "metadata": {
    "collapsed": true
   },
   "outputs": [],
   "source": [
    "class BernnoulliArm(object):\n",
    "    def __init__(self,para):\n",
    "        self.para = para\n",
    "    def get_reward(self):\n",
    "        return np.random.binomial(1,self.para)"
   ]
  },
  {
   "cell_type": "code",
   "execution_count": null,
   "metadata": {
    "collapsed": true
   },
   "outputs": [],
   "source": [
    "arm1 = BernnoulliArm(0.1)\n",
    "arm2 = BernnoulliArm(0.3)\n",
    "arm3 = BernnoulliArm(0.5)\n",
    "arm4 = BernnoulliArm(0.7)\n",
    "arm5 = BernnoulliArm(0.9)\n",
    "\n",
    "arms = [arm1,arm2,arm3,arm4,arm5]"
   ]
  },
  {
   "cell_type": "code",
   "execution_count": null,
   "metadata": {
    "collapsed": false
   },
   "outputs": [],
   "source": [
    "egreedy = bandits.EpsilonGreedy(5,epsilon=0.1)\n",
    "decay_egreedy = bandits.DecayEpsilonGreedy(5)"
   ]
  },
  {
   "cell_type": "code",
   "execution_count": null,
   "metadata": {
    "collapsed": false
   },
   "outputs": [],
   "source": [
    "total_reward = 0\n",
    "for _ in range(10000):\n",
    "    draw_arm = egreedy.choose_arm()\n",
    "    reward = arms[draw_arm].get_reward()\n",
    "    total_reward += reward\n",
    "    egreedy.update(draw_arm,reward)"
   ]
  },
  {
   "cell_type": "code",
   "execution_count": null,
   "metadata": {
    "collapsed": false
   },
   "outputs": [],
   "source": [
    "total_draw = np.sum(egreedy.drawn_counts)\n",
    "regret = np.random.binomial(total_draw,0.9) - total_reward\n",
    "print(\"epsilon:\",egreedy.epsilon)\n",
    "print(\"expected reward:\",egreedy.expected_reward)\n",
    "print(\"drawn counts:\",egreedy.drawn_counts)\n",
    "print(\"regret:\",regret)"
   ]
  },
  {
   "cell_type": "code",
   "execution_count": null,
   "metadata": {
    "collapsed": true
   },
   "outputs": [],
   "source": [
    "total_reward = 0\n",
    "for _ in range(10000):\n",
    "    draw_arm = decay_egreedy.choose_arm()\n",
    "    reward = arms[draw_arm].get_reward()\n",
    "    total_reward += reward\n",
    "    decay_egreedy.update(draw_arm,reward)"
   ]
  },
  {
   "cell_type": "code",
   "execution_count": null,
   "metadata": {
    "collapsed": false
   },
   "outputs": [],
   "source": [
    "total_draw = np.sum(decay_egreedy.drawn_counts)\n",
    "regret = np.random.binomial(total_draw,0.9) - total_reward\n",
    "print(\"epsilon:\",decay_egreedy.get_epsilon)\n",
    "print(\"expected reward:\",decay_egreedy.expected_reward)\n",
    "print(\"drawn counts:\",decay_egreedy.drawn_counts)\n",
    "print(\"regret:\",regret)"
   ]
  },
  {
   "cell_type": "code",
   "execution_count": null,
   "metadata": {
    "collapsed": true
   },
   "outputs": [],
   "source": []
  }
 ],
 "metadata": {
  "kernelspec": {
   "display_name": "Python 3",
   "language": "python",
   "name": "python3"
  },
  "language_info": {
   "codemirror_mode": {
    "name": "ipython",
    "version": 3
   },
   "file_extension": ".py",
   "mimetype": "text/x-python",
   "name": "python",
   "nbconvert_exporter": "python",
   "pygments_lexer": "ipython3",
   "version": "3.4.1"
  }
 },
 "nbformat": 4,
 "nbformat_minor": 0
}
