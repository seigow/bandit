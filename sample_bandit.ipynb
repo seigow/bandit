{
 "cells": [
  {
   "cell_type": "code",
   "execution_count": 3,
   "metadata": {
    "collapsed": true
   },
   "outputs": [],
   "source": [
    "import numpy as np\n",
    "import sys\n",
    "sys.path.append(\"policy/\")\n",
    "sys.path.append(\"arm/\")"
   ]
  },
  {
   "cell_type": "code",
   "execution_count": 4,
   "metadata": {
    "collapsed": false
   },
   "outputs": [],
   "source": [
    "from bernoulli import BernoulliArm\n",
    "from gaussian import GaussianArm"
   ]
  },
  {
   "cell_type": "code",
   "execution_count": 4,
   "metadata": {
    "collapsed": false
   },
   "outputs": [],
   "source": [
    "arm1 = BernoulliArm(0.1)\n",
    "arm2 = BernoulliArm(0.3)\n",
    "arm3 = BernoulliArm(0.5)\n",
    "arm4 = BernoulliArm(0.7)\n",
    "arm5 = BernoulliArm(0.9)\n",
    "\n",
    "bin_arms = [arm1,arm2,arm3,arm4,arm5]"
   ]
  },
  {
   "cell_type": "code",
   "execution_count": 5,
   "metadata": {
    "collapsed": false
   },
   "outputs": [],
   "source": [
    "arm1 = GaussianArm(0.1,0.1)\n",
    "arm2 = GaussianArm(0.3,0.1)\n",
    "arm3 = GaussianArm(0.5,0.1)\n",
    "arm4 = GaussianArm(0.7,0.1)\n",
    "arm5 = GaussianArm(0.9,0.1)\n",
    "gauss_arms = [arm1,arm2,arm3,arm4,arm5]"
   ]
  },
  {
   "cell_type": "code",
   "execution_count": null,
   "metadata": {
    "collapsed": true
   },
   "outputs": [],
   "source": [
    "import egreedy"
   ]
  },
  {
   "cell_type": "code",
   "execution_count": 5,
   "metadata": {
    "collapsed": false
   },
   "outputs": [
    {
     "name": "stdout",
     "output_type": "stream",
     "text": [
      "epsilon: 0.1\n",
      "expected reward: [ 0.09031282  0.30493274  0.50203459  0.69713712  0.89920047]\n",
      "drawn counts: [ 1982  2007  1966  1991 92054]\n",
      "regret: 4050\n"
     ]
    }
   ],
   "source": [
    "# epsilon greedy \n",
    "epsilon_greedy = egreedy.EpsilonGreedy(5,epsilon=0.1)\n",
    "\n",
    "total_reward = 0\n",
    "for _ in range(100000):\n",
    "    draw_arm = epsilon_greedy.select_arm()\n",
    "    reward = bin_arms[draw_arm].pull()\n",
    "    total_reward += reward\n",
    "    epsilon_greedy.update_states(draw_arm,reward)\n",
    "\n",
    "total_draw = np.sum(epsilon_greedy.drawn_counts)\n",
    "regret = np.random.binomial(total_draw,0.9) - total_reward\n",
    "print(\"epsilon:\",epsilon_greedy.epsilon)\n",
    "print(\"expected reward:\",epsilon_greedy.expected_reward)\n",
    "print(\"drawn counts:\",epsilon_greedy.drawn_counts)\n",
    "print(\"regret:\",regret)"
   ]
  },
  {
   "cell_type": "code",
   "execution_count": 6,
   "metadata": {
    "collapsed": false
   },
   "outputs": [
    {
     "name": "stdout",
     "output_type": "stream",
     "text": [
      "epsilon: 0.000499750124938\n",
      "expected reward: [0.07894736842105265, 0.25757575757575757, 0.4999999999999999, 0.6567164179104478, 0.8990686658236435]\n",
      "drawn counts: [76, 66, 82, 134, 99642]\n",
      "regret: 239\n"
     ]
    }
   ],
   "source": [
    "# epsilon greedy with decay \n",
    "decay_egreedy = egreedy.DecayEpsilonGreedy(5)\n",
    "\n",
    "total_reward = 0\n",
    "for _ in range(100000):\n",
    "    draw_arm = decay_egreedy.select_arm()\n",
    "    reward = bin_arms[draw_arm].pull()\n",
    "    total_reward += reward\n",
    "    decay_egreedy.update_states(draw_arm,reward)\n",
    "\n",
    "total_draw = np.sum(decay_egreedy.drawn_counts)\n",
    "regret = np.random.binomial(total_draw,0.9) - total_reward\n",
    "print(\"epsilon:\",decay_egreedy.get_epsilon())\n",
    "print(\"expected reward:\",decay_egreedy.expected_reward)\n",
    "print(\"drawn counts:\",decay_egreedy.drawn_counts)\n",
    "print(\"regret:\",regret)"
   ]
  },
  {
   "cell_type": "code",
   "execution_count": 6,
   "metadata": {
    "collapsed": true
   },
   "outputs": [],
   "source": [
    "import thompson"
   ]
  },
  {
   "cell_type": "code",
   "execution_count": 11,
   "metadata": {
    "collapsed": false
   },
   "outputs": [
    {
     "name": "stdout",
     "output_type": "stream",
     "text": [
      "alpha: [    1     8    21     9 89845]\n",
      "beta: [    6     9    14     9 10088]\n",
      "regret: 186\n"
     ]
    }
   ],
   "source": [
    "# Thompson sampling for binary reward\n",
    "\n",
    "binary_ts = thompson.BinaryThompsonSampling(5)\n",
    "\n",
    "total_play = 100000\n",
    "total_reward = 0\n",
    "for _ in range(total_play):\n",
    "    i = binary_ts.select_arm()\n",
    "    reward = bin_arms[i].pull()\n",
    "    total_reward += reward\n",
    "    binary_ts.update_states(i,reward)\n",
    "\n",
    "#total_play = np.sum([binary_ts.alpha,binary_ts.beta]) - 10\n",
    "regret = np.random.binomial(total_play,0.9) - total_reward\n",
    "print(\"alpha:\",binary_ts.alpha)\n",
    "print(\"beta:\",binary_ts.beta)\n",
    "print(\"regret:\",regret)"
   ]
  },
  {
   "cell_type": "code",
   "execution_count": 7,
   "metadata": {
    "collapsed": false
   },
   "outputs": [
    {
     "name": "stdout",
     "output_type": "stream",
     "text": [
      "mu: [ 0.153502    0.13340338  0.26153544  0.33881326  0.36639793]\n",
      "k(the number of plays of arms):\n",
      " [  1.90000000e+01   1.80000000e+01   3.70000000e+01   1.42000000e+02\n",
      "   9.97840000e+04]\n",
      "regret: 0.908866509835254\n"
     ]
    }
   ],
   "source": [
    "# Thompson sampling for gaussian(normal) reward \n",
    "\n",
    "gaussian_ts = thompson.GaussianThompsonSampling(5)\n",
    "\n",
    "total_play = 100000\n",
    "total_reward = 0\n",
    "for _ in range(total_play):\n",
    "    i = gaussian_ts.select_arm()\n",
    "    reward = gauss_arms[i].pull()\n",
    "    total_reward += reward\n",
    "    gaussian_ts.update_states(i,reward)\n",
    "    \n",
    "regret = np.random.normal(0.9,0.1)\n",
    "print(\"mu:\",gaussian_ts.mu)\n",
    "print(\"k(the number of plays of arms):\\n\",gaussian_ts.k)\n",
    "print(\"regret:\",regret)"
   ]
  },
  {
   "cell_type": "code",
   "execution_count": 12,
   "metadata": {
    "collapsed": false
   },
   "outputs": [
    {
     "name": "stdout",
     "output_type": "stream",
     "text": [
      "EpsilonGreedy's average regret: 440.11\n"
     ]
    }
   ],
   "source": [
    "total_regret = 0\n",
    "n_repeat = 100\n",
    "for _ in range(n_repeat):\n",
    "    epsilon_greedy = egreedy.EpsilonGreedy(5,epsilon=0.1)\n",
    "    total_reward = 0\n",
    "    for _ in range(10000):\n",
    "        draw_arm = epsilon_greedy.select_arm()\n",
    "        reward = bin_arms[draw_arm].pull()\n",
    "        total_reward += reward\n",
    "        epsilon_greedy.update_states(draw_arm,reward)\n",
    "    total_draw = np.sum(epsilon_greedy.drawn_counts)\n",
    "    regret = np.random.binomial(total_draw,0.9) - total_reward\n",
    "    total_regret += regret\n",
    "print(\"EpsilonGreedy's average regret:\",total_regret/n_repeat)"
   ]
  },
  {
   "cell_type": "code",
   "execution_count": 13,
   "metadata": {
    "collapsed": false
   },
   "outputs": [
    {
     "name": "stdout",
     "output_type": "stream",
     "text": [
      "DecayEpsilonGreedy's average regret: 110.9\n"
     ]
    }
   ],
   "source": [
    "total_regret = 0\n",
    "n_repeat = 100\n",
    "for _ in range(n_repeat):\n",
    "    decay_egreedy = egreedy.DecayEpsilonGreedy(5)\n",
    "    total_reward = 0\n",
    "    for _ in range(10000):\n",
    "        draw_arm = decay_egreedy.select_arm()\n",
    "        reward = bin_arms[draw_arm].pull()\n",
    "        total_reward += reward\n",
    "        decay_egreedy.update_states(draw_arm,reward)\n",
    "    total_draw = np.sum(decay_egreedy.drawn_counts)\n",
    "    regret = np.random.binomial(total_draw,0.9) - total_reward\n",
    "    total_regret += regret\n",
    "print(\"DecayEpsilonGreedy's average regret:\",total_regret/n_repeat)"
   ]
  },
  {
   "cell_type": "code",
   "execution_count": 14,
   "metadata": {
    "collapsed": false
   },
   "outputs": [
    {
     "name": "stdout",
     "output_type": "stream",
     "text": [
      "TS's average regret: 17.63\n"
     ]
    }
   ],
   "source": [
    "total_regret = 0\n",
    "n_repeat = 100\n",
    "for _ in range(n_repeat):\n",
    "    tsampling = thompson.BinaryThompsonSampling(5)\n",
    "    total_reward = 0\n",
    "    for _ in range(10000):\n",
    "        i = tsampling.select_arm()\n",
    "        reward = bin_arms[i].pull()\n",
    "        total_reward += reward\n",
    "        tsampling.update_states(i,reward)\n",
    "    total_play = np.sum([tsampling.alpha,tsampling.beta]) - 10\n",
    "    regret = np.random.binomial(total_play,0.9) - total_reward\n",
    "    total_regret += regret\n",
    "print(\"TS(binary reward)'s average regret:\",total_regret/n_repeat)"
   ]
  },
  {
   "cell_type": "code",
   "execution_count": 15,
   "metadata": {
    "collapsed": false
   },
   "outputs": [
    {
     "name": "stdout",
     "output_type": "stream",
     "text": [
      "TS(gaussian reward)'s average regret: 62.848398420765044\n"
     ]
    }
   ],
   "source": [
    "total_regret = 0\n",
    "n_repeat = 100\n",
    "for _ in range(n_repeat):\n",
    "    tsampling = thompson.GaussianThompsonSampling(5)\n",
    "    total_reward = 0\n",
    "    total_play = 10000\n",
    "    for _ in range(total_play):\n",
    "        i = tsampling.select_arm()\n",
    "        reward = gauss_arms[i].pull()\n",
    "        total_reward += reward\n",
    "        tsampling.update_states(i,reward)\n",
    "    optimal = sum([gauss_arms[-1].pull() for _ in range(total_play)])\n",
    "    regret = optimal - total_reward\n",
    "    total_regret += regret\n",
    "print(\"TS(gaussian reward)'s average regret:\",total_regret/n_repeat)"
   ]
  },
  {
   "cell_type": "code",
   "execution_count": 15,
   "metadata": {
    "collapsed": false
   },
   "outputs": [],
   "source": [
    "import multiplay_thompson"
   ]
  },
  {
   "cell_type": "code",
   "execution_count": 16,
   "metadata": {
    "collapsed": false
   },
   "outputs": [
    {
     "name": "stdout",
     "output_type": "stream",
     "text": [
      "MP-TS's average regret: 22.78\n"
     ]
    }
   ],
   "source": [
    "total_regret = 0\n",
    "n_repeat = 100\n",
    "for _ in range(n_repeat):\n",
    "    mp_ts = multiplay_thompson.BinaryMultiplayTS(5,2)\n",
    "    total_reward = 0\n",
    "    for _ in range(10000):\n",
    "        selections = mp_ts.select_arm()\n",
    "        for i in selections:\n",
    "            reward = bin_arms[i].pull()\n",
    "            total_reward += reward\n",
    "            mp_ts.update_states(i,reward)\n",
    "    regret = np.random.binomial(10000,0.9)+np.random.binomial(10000,0.7) - total_reward\n",
    "    total_regret += regret\n",
    "print(\"MP-TS's average regret:\",total_regret/n_repeat)"
   ]
  },
  {
   "cell_type": "code",
   "execution_count": 3,
   "metadata": {
    "collapsed": false
   },
   "outputs": [],
   "source": [
    "import klucb"
   ]
  },
  {
   "cell_type": "code",
   "execution_count": 5,
   "metadata": {
    "collapsed": false,
    "scrolled": true
   },
   "outputs": [
    {
     "name": "stdout",
     "output_type": "stream",
     "text": [
      "KL-UCB's average regret: 78.61\n"
     ]
    }
   ],
   "source": [
    "total_regret = 0\n",
    "n_repeat = 100\n",
    "for _ in range(n_repeat):\n",
    "    kl_ucb = klucb.KLUCB(5)\n",
    "    total_reward = 0\n",
    "    for _ in range(10000):\n",
    "        i = kl_ucb.select_arm()\n",
    "        reward = bin_arms[i].pull()\n",
    "        total_reward += reward\n",
    "        kl_ucb.update_states(i,reward)\n",
    "    regret = np.random.binomial(10000,0.9) - total_reward\n",
    "    total_regret += regret\n",
    "print(\"KL-UCB's average regret:\",total_regret/n_repeat)"
   ]
  },
  {
   "cell_type": "code",
   "execution_count": 17,
   "metadata": {
    "collapsed": false
   },
   "outputs": [
    {
     "data": {
      "text/plain": [
       "array([-0.62647086,  1.12518978])"
      ]
     },
     "execution_count": 17,
     "metadata": {},
     "output_type": "execute_result"
    }
   ],
   "source": [
    "np.random.normal([0.1,0.5],1/np.array([5,10])+1)"
   ]
  },
  {
   "cell_type": "code",
   "execution_count": null,
   "metadata": {
    "collapsed": true
   },
   "outputs": [],
   "source": []
  }
 ],
 "metadata": {
  "kernelspec": {
   "display_name": "Python 3",
   "language": "python",
   "name": "python3"
  },
  "language_info": {
   "codemirror_mode": {
    "name": "ipython",
    "version": 3
   },
   "file_extension": ".py",
   "mimetype": "text/x-python",
   "name": "python",
   "nbconvert_exporter": "python",
   "pygments_lexer": "ipython3",
   "version": "3.5.0"
  }
 },
 "nbformat": 4,
 "nbformat_minor": 0
}
