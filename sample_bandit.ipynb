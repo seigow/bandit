{
 "cells": [
  {
   "cell_type": "code",
   "execution_count": 1,
   "metadata": {
    "collapsed": false
   },
   "outputs": [],
   "source": [
    "import numpy as np\n",
    "import sys\n",
    "sys.path.append(\"policy/\")\n",
    "sys.path.append(\"arm/\")\n",
    "import egreedy\n",
    "from bernoulli import BernoulliArm"
   ]
  },
  {
   "cell_type": "code",
   "execution_count": 2,
   "metadata": {
    "collapsed": false
   },
   "outputs": [],
   "source": [
    "arm1 = BernoulliArm(0.1)\n",
    "arm2 = BernoulliArm(0.3)\n",
    "arm3 = BernoulliArm(0.5)\n",
    "arm4 = BernoulliArm(0.7)\n",
    "arm5 = BernoulliArm(0.9)\n",
    "\n",
    "arms = [arm1,arm2,arm3,arm4,arm5]"
   ]
  },
  {
   "cell_type": "code",
   "execution_count": 3,
   "metadata": {
    "collapsed": false
   },
   "outputs": [],
   "source": [
    "epsilon_greedy = egreedy.EpsilonGreedy(5,epsilon=0.1)\n",
    "decay_egreedy = egreedy.DecayEpsilonGreedy(5)"
   ]
  },
  {
   "cell_type": "code",
   "execution_count": 4,
   "metadata": {
    "collapsed": false
   },
   "outputs": [],
   "source": [
    "total_reward = 0\n",
    "for _ in range(100000):\n",
    "    draw_arm = epsilon_greedy.select_arm()\n",
    "    reward = arms[draw_arm].pull()\n",
    "    total_reward += reward\n",
    "    epsilon_greedy.update_states(draw_arm,reward)"
   ]
  },
  {
   "cell_type": "code",
   "execution_count": 5,
   "metadata": {
    "collapsed": false
   },
   "outputs": [
    {
     "name": "stdout",
     "output_type": "stream",
     "text": [
      "epsilon: 0.1\n",
      "expected reward: [0.10680576254346769, 0.3141907925961078, 0.49670552458185563, 0.6951466127401417, 0.8995855497177258]\n",
      "drawn counts: [2013, 2107, 1973, 1978, 91929]\n",
      "regret: 4078\n"
     ]
    }
   ],
   "source": [
    "total_draw = np.sum(epsilon_greedy.drawn_counts)\n",
    "regret = np.random.binomial(total_draw,0.9) - total_reward\n",
    "print(\"epsilon:\",epsilon_greedy.epsilon)\n",
    "print(\"expected reward:\",epsilon_greedy.expected_reward)\n",
    "print(\"drawn counts:\",epsilon_greedy.drawn_counts)\n",
    "print(\"regret:\",regret)"
   ]
  },
  {
   "cell_type": "code",
   "execution_count": 6,
   "metadata": {
    "collapsed": false
   },
   "outputs": [],
   "source": [
    "total_reward = 0\n",
    "for _ in range(100000):\n",
    "    draw_arm = decay_egreedy.select_arm()\n",
    "    reward = arms[draw_arm].pull()\n",
    "    total_reward += reward\n",
    "    decay_egreedy.update_states(draw_arm,reward)"
   ]
  },
  {
   "cell_type": "code",
   "execution_count": 7,
   "metadata": {
    "collapsed": false
   },
   "outputs": [
    {
     "name": "stdout",
     "output_type": "stream",
     "text": [
      "epsilon: 0.000499750124938\n",
      "expected reward: [0.17647058823529416, 0.29411764705882354, 0.5256410256410252, 0.5873015873015873, 0.90072500827292]\n",
      "drawn counts: [68, 68, 78, 63, 99723]\n",
      "regret: 145\n"
     ]
    }
   ],
   "source": [
    "total_draw = np.sum(decay_egreedy.drawn_counts)\n",
    "regret = np.random.binomial(total_draw,0.9) - total_reward\n",
    "print(\"epsilon:\",decay_egreedy.get_epsilon())\n",
    "print(\"expected reward:\",decay_egreedy.expected_reward)\n",
    "print(\"drawn counts:\",decay_egreedy.drawn_counts)\n",
    "print(\"regret:\",regret)"
   ]
  },
  {
   "cell_type": "code",
   "execution_count": 8,
   "metadata": {
    "collapsed": true
   },
   "outputs": [],
   "source": [
    "import thompson"
   ]
  },
  {
   "cell_type": "code",
   "execution_count": 9,
   "metadata": {
    "collapsed": false
   },
   "outputs": [],
   "source": [
    "tsampling = thompson.BinaryThompsonSampling(5)"
   ]
  },
  {
   "cell_type": "code",
   "execution_count": 10,
   "metadata": {
    "collapsed": false
   },
   "outputs": [],
   "source": [
    "total_reward = 0\n",
    "for _ in range(100000):\n",
    "    i = tsampling.select_arm()\n",
    "    reward = arms[i].pull()\n",
    "    total_reward += reward\n",
    "    tsampling.update_states(i,reward)"
   ]
  },
  {
   "cell_type": "code",
   "execution_count": 11,
   "metadata": {
    "collapsed": false
   },
   "outputs": [
    {
     "name": "stdout",
     "output_type": "stream",
     "text": [
      "alpha: [1, 1, 6, 32, 89928]\n",
      "beta: [5, 5, 8, 15, 10009]\n",
      "regret: -222\n"
     ]
    }
   ],
   "source": [
    "total_play = np.sum([tsampling.alpha,tsampling.beta]) - 10\n",
    "regret = np.random.binomial(total_play,0.9) - total_reward\n",
    "print(\"alpha:\",tsampling.alpha)\n",
    "print(\"beta:\",tsampling.beta)\n",
    "print(\"regret:\",regret)"
   ]
  },
  {
   "cell_type": "code",
   "execution_count": 12,
   "metadata": {
    "collapsed": false
   },
   "outputs": [
    {
     "name": "stdout",
     "output_type": "stream",
     "text": [
      "EpsilonGreedy's average regret: 440.11\n"
     ]
    }
   ],
   "source": [
    "total_regret = 0\n",
    "for _ in range(100):\n",
    "    epsilon_greedy = egreedy.EpsilonGreedy(5,epsilon=0.1)\n",
    "    total_reward = 0\n",
    "    for _ in range(10000):\n",
    "        draw_arm = epsilon_greedy.select_arm()\n",
    "        reward = arms[draw_arm].pull()\n",
    "        total_reward += reward\n",
    "        epsilon_greedy.update_states(draw_arm,reward)\n",
    "    total_draw = np.sum(epsilon_greedy.drawn_counts)\n",
    "    regret = np.random.binomial(total_draw,0.9) - total_reward\n",
    "    total_regret += regret\n",
    "print(\"EpsilonGreedy's average regret:\",total_regret/100)"
   ]
  },
  {
   "cell_type": "code",
   "execution_count": 13,
   "metadata": {
    "collapsed": false
   },
   "outputs": [
    {
     "name": "stdout",
     "output_type": "stream",
     "text": [
      "DecayEpsilonGreedy's average regret: 110.9\n"
     ]
    }
   ],
   "source": [
    "total_regret = 0\n",
    "for _ in range(100):\n",
    "    decay_egreedy = egreedy.DecayEpsilonGreedy(5)\n",
    "    total_reward = 0\n",
    "    for _ in range(10000):\n",
    "        draw_arm = decay_egreedy.select_arm()\n",
    "        reward = arms[draw_arm].pull()\n",
    "        total_reward += reward\n",
    "        decay_egreedy.update_states(draw_arm,reward)\n",
    "    total_draw = np.sum(decay_egreedy.drawn_counts)\n",
    "    regret = np.random.binomial(total_draw,0.9) - total_reward\n",
    "    total_regret += regret\n",
    "print(\"DecayEpsilonGreedy's average regret:\",total_regret/100)"
   ]
  },
  {
   "cell_type": "code",
   "execution_count": 14,
   "metadata": {
    "collapsed": false
   },
   "outputs": [
    {
     "name": "stdout",
     "output_type": "stream",
     "text": [
      "TS's average regret: 17.63\n"
     ]
    }
   ],
   "source": [
    "total_regret = 0\n",
    "for _ in range(100):\n",
    "    tsampling = thompson.BinaryThompsonSampling(5)\n",
    "    total_reward = 0\n",
    "    for _ in range(10000):\n",
    "        i = tsampling.select_arm()\n",
    "        reward = arms[i].pull()\n",
    "        total_reward += reward\n",
    "        tsampling.update_states(i,reward)\n",
    "    total_play = np.sum([tsampling.alpha,tsampling.beta]) - 10\n",
    "    regret = np.random.binomial(total_play,0.9) - total_reward\n",
    "    total_regret += regret\n",
    "print(\"TS's average regret:\",total_regret/100)"
   ]
  },
  {
   "cell_type": "code",
   "execution_count": null,
   "metadata": {
    "collapsed": false
   },
   "outputs": [],
   "source": [
    "import multiplay_thompson"
   ]
  },
  {
   "cell_type": "code",
   "execution_count": null,
   "metadata": {
    "collapsed": false
   },
   "outputs": [],
   "source": [
    "total_regret = 0\n",
    "for _ in range(100):\n",
    "    mp_ts = multiplay_thompson.BinaryMultiplayTS(5,2)\n",
    "    total_reward = 0\n",
    "    for _ in range(10000):\n",
    "        selections = mp_ts.select_arm()\n",
    "        for i in selections:\n",
    "            reward = arms[i].pull()\n",
    "            total_reward += reward\n",
    "            mp_ts.update_states(i,reward)\n",
    "    regret = np.random.binomial(10000,0.9)+np.random.binomial(10000,0.7) - total_reward\n",
    "    total_regret += regret\n",
    "print(\"MP-TS's average regret:\",total_regret/100)"
   ]
  },
  {
   "cell_type": "code",
   "execution_count": null,
   "metadata": {
    "collapsed": true
   },
   "outputs": [],
   "source": []
  }
 ],
 "metadata": {
  "kernelspec": {
   "display_name": "Python 3",
   "language": "python",
   "name": "python3"
  },
  "language_info": {
   "codemirror_mode": {
    "name": "ipython",
    "version": 3
   },
   "file_extension": ".py",
   "mimetype": "text/x-python",
   "name": "python",
   "nbconvert_exporter": "python",
   "pygments_lexer": "ipython3",
   "version": "3.4.1"
  }
 },
 "nbformat": 4,
 "nbformat_minor": 0
}
